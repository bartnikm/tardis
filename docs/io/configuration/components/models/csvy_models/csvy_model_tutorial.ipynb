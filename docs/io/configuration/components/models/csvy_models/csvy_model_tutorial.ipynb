{
 "cells": [
  {
   "cell_type": "markdown",
   "id": "8e0fe758",
   "metadata": {},
   "source": [
    "# CSVY Model Tutorial"
   ]
  },
  {
   "cell_type": "code",
   "execution_count": null,
   "id": "4ea85453",
   "metadata": {},
   "outputs": [],
   "source": [
    "# Importing necessary packages\n",
    "from tardis.io.config_reader import Configuration\n",
    "from tardis.model import Radial1DModel\n",
    "from tardis.io.atom_data.util import download_atom_data\n",
    "from tardis.io.parsers.csvy import load_csvy\n",
    "from tardis import run_tardis\n",
    "import matplotlib.pyplot as plt\n",
    "import pandas as pd\n",
    "\n",
    "#downloading atom data\n",
    "download_atom_data('kurucz_cd23_chianti_H_He')"
   ]
  },
  {
   "cell_type": "markdown",
   "id": "bdbcc2c3",
   "metadata": {},
   "source": [
    "Much like in the [Model of the Supernova Domain](../../../../../physics/setup/model.rst), when `Simulation.from_config()` is called, a `Radial1DModel` object is created. However, this is done via the class method `Radial1DModel.from_csvy()` which created the object from the user-inputted data within the csv portion of the csvy file. The dimensions of the data and the data used in the csv portion, however, must be specified in the yaml portion of the file. A CSVY Model is very flexible in that the csvy file can incorporate many different values, and this tutorial will go over some cases of inputted values. To fulfill this, the `tardis_example.yml` has been edited to incorporate a csvy_model to create the `tardis_ex_csvy.yml` file whose `csvy_model` portion will be changed around across this tutorial."
   ]
  },
  {
   "cell_type": "code",
   "execution_count": null,
   "id": "dc985a1d",
   "metadata": {
    "scrolled": false
   },
   "outputs": [],
   "source": [
    "config = Configuration.from_yaml(\"tardis_ex_csvy.yml\")\n",
    "print(config)"
   ]
  },
  {
   "cell_type": "markdown",
   "id": "74b8a5bc",
   "metadata": {},
   "source": [
    "### Model With All Possible Inputs"
   ]
  },
  {
   "cell_type": "markdown",
   "id": "93e89697",
   "metadata": {},
   "source": [
    "Below shows an example model with all possible inputs:\n",
    "- Inner and Outer Velocity Boundaries\n",
    "- Element Abundances (Including Isotopes)\n",
    "- Velocities, Densities, Dilution Factors, and Radiative Temperatures Per Shell"
   ]
  },
  {
   "cell_type": "code",
   "execution_count": null,
   "id": "30d4cd3e",
   "metadata": {},
   "outputs": [],
   "source": [
    "config.csvy_model = 'csvy_tutorial.csvy'\n",
    "\n",
    "yaml_full, csv_full = load_csvy(config.csvy_model)\n",
    "yaml_full"
   ]
  },
  {
   "cell_type": "code",
   "execution_count": null,
   "id": "d938d6f0",
   "metadata": {},
   "outputs": [],
   "source": [
    "csv_full"
   ]
  },
  {
   "cell_type": "code",
   "execution_count": null,
   "id": "e4faaba2",
   "metadata": {},
   "outputs": [],
   "source": [
    "full_model = Radial1DModel.from_csvy(config)\n",
    "\n",
    "print('velocity:\\n', full_model.velocity)\n",
    "print('v_inner:\\n', full_model.v_inner)\n",
    "print('v_outer:\\n', full_model.v_outer)\n",
    "print('v_middle:\\n', full_model.v_middle)\n",
    "print('v_boundary_inner:\\n', full_model.v_boundary_inner)\n",
    "print('v_boundary_outer:\\n', full_model.v_boundary_outer)\n",
    "print('\\nradius:\\n', full_model.radius)\n",
    "print('r_inner:\\n', full_model.r_inner)\n",
    "print('r_outer:\\n', full_model.r_outer)\n",
    "print('r_middle:\\n', full_model.r_middle)\n",
    "print('\\ndilution factor:\\n', full_model.w)\n",
    "print('radiative teperature:\\n', full_model.t_rad)\n",
    "print('\\nvolume:\\n', full_model.volume)\n",
    "print('density:\\n', full_model.density)\n",
    "\n",
    "fig, axs = plt.subplots(2, 2, figsize = (8,6))\n",
    "axs[0,0].plot(full_model.r_middle, full_model.density)\n",
    "axs[0,0].set_xlabel(f'Radius ({full_model.r_middle.unit})')\n",
    "axs[0,0].set_ylabel(f'Density ({full_model.density.unit})')\n",
    "\n",
    "axs[0,1].plot(full_model.r_middle, full_model.t_rad)\n",
    "axs[0,1].set_xlabel(f'Radius ({full_model.r_middle.unit})')\n",
    "axs[0,1].set_ylabel(f'Radiative Temperature ({full_model.t_rad.unit})')\n",
    "\n",
    "axs[1,0].plot(full_model.r_middle, full_model.w)\n",
    "axs[1,0].set_xlabel(f'Radius ({full_model.r_middle.unit})')\n",
    "axs[1,0].set_ylabel('Dilution Factor')\n",
    "\n",
    "axs[1,1].plot(full_model.r_middle, full_model.v_middle)\n",
    "axs[1,1].set_xlabel(f'Radius ({full_model.r_middle.unit})')\n",
    "axs[1,1].set_ylabel(f'Velocity ({full_model.v_middle.unit})')\n",
    "plt.tight_layout()"
   ]
  },
  {
   "cell_type": "code",
   "execution_count": null,
   "id": "b26f4ef7",
   "metadata": {},
   "outputs": [],
   "source": [
    "pd.DataFrame(full_model.abundance)"
   ]
  },
  {
   "cell_type": "markdown",
   "id": "8dffb1eb",
   "metadata": {},
   "source": [
    "### Model With No Radiative Temperatures or Dilution Factors\n",
    "\n",
    "Below shows an example of a model with no radiative temperatures or dilution factors specified. In this instance, TARDIS will automatically calculate these values (see [Model of the Supernova Domain](../../../../../physics/setup/model.rst))."
   ]
  },
  {
   "cell_type": "code",
   "execution_count": null,
   "id": "48c4e905",
   "metadata": {},
   "outputs": [],
   "source": [
    "config.csvy_model = 'csvy_tutorial_no_trad_w.csvy'\n",
    "\n",
    "yaml_no_tw, csv_no_tw = load_csvy(config.csvy_model)\n",
    "yaml_no_tw"
   ]
  },
  {
   "cell_type": "code",
   "execution_count": null,
   "id": "b4fd3a58",
   "metadata": {},
   "outputs": [],
   "source": [
    "csv_no_tw"
   ]
  },
  {
   "cell_type": "code",
   "execution_count": null,
   "id": "ec6428d3",
   "metadata": {},
   "outputs": [],
   "source": [
    "no_trad_w_model = Radial1DModel.from_csvy(config)\n",
    "\n",
    "#print('velocity:\\n', no_trad_w_model.velocity)\n",
    "#print('v_inner:\\n', no_trad_w_model.v_inner)\n",
    "#print('v_outer:\\n', no_trad_w_model.v_outer)\n",
    "#print('v_middle:\\n', no_trad_w_model.v_middle)\n",
    "#print('v_boundary_inner:\\n', no_trad_w_model.v_boundary_inner)\n",
    "#print('v_boundary_outer:\\n', no_trad_w_model.v_boundary_outer)\n",
    "#print('\\nradius:\\n', no_trad_w_model.radius)\n",
    "#print('r_inner:\\n', no_trad_w_model.r_inner)\n",
    "#print('r_outer:\\n', no_trad_w_model.r_outer)\n",
    "print('r_middle:\\n', no_trad_w_model.r_middle)\n",
    "print('\\ndilution factor:\\n', no_trad_w_model.w)\n",
    "print('radiative teperature:\\n', no_trad_w_model.t_rad)\n",
    "#print('\\nvolume:\\n', no_trad_w_model.volume)\n",
    "#print('density:\\n', no_trad_w_model.density)\n",
    "\n",
    "fig, axs = plt.subplots(2, 1, figsize = (8, 6))\n",
    "\n",
    "axs[0].plot(no_trad_w_model.r_middle, full_model.w)\n",
    "axs[0].set_xlabel(f'Radius ({no_trad_w_model.r_middle.unit})')\n",
    "axs[0].set_ylabel('Dilution Factor')\n",
    "\n",
    "axs[1].plot(no_trad_w_model.r_middle,  no_trad_w_model.t_rad)\n",
    "axs[1].set_xlabel(f'Radius ({no_trad_w_model.r_middle.unit})')\n",
    "axs[1].set_ylabel(f'Radiative Temperature ({ no_trad_w_model.t_rad.unit})')\n",
    "plt.tight_layout()"
   ]
  },
  {
   "cell_type": "markdown",
   "id": "ef797e24",
   "metadata": {},
   "source": [
    "### Model Only With Velocities And Densities\n",
    "\n",
    "The following shows a model where only the velocity and density per shell are given. Here, like above, the radiative temperature and dilution factor are automatically calculated, and TARDIS will set `v_boundary_inner` and `v_boundary_outer` to be the first and last velocities specified in the csv portion. The abundances **must** be defined in the YAML section in this case."
   ]
  },
  {
   "cell_type": "code",
   "execution_count": null,
   "id": "67770f26",
   "metadata": {
    "scrolled": false
   },
   "outputs": [],
   "source": [
    "config.csvy_model = 'csvy_tutorial_only_v_p.csvy'\n",
    "\n",
    "yaml_only_vp, csv_only_vp = load_csvy(config.csvy_model)\n",
    "yaml_only_vp"
   ]
  },
  {
   "cell_type": "code",
   "execution_count": null,
   "id": "7e1d6114",
   "metadata": {},
   "outputs": [],
   "source": [
    "csv_only_vp"
   ]
  },
  {
   "cell_type": "code",
   "execution_count": null,
   "id": "d7488a97",
   "metadata": {
    "scrolled": false
   },
   "outputs": [],
   "source": [
    "v_p_model = Radial1DModel.from_csvy(config)\n",
    "\n",
    "#print('velocity:\\n', v_p_model.velocity)\n",
    "#print('v_inner:\\n', v_p_model.v_inner)\n",
    "#print('v_outer:\\n', v_p_model.v_outer)\n",
    "#print('v_middle:\\n', v_p_model.v_middle)\n",
    "print('v_boundary_inner:\\n', v_p_model.v_boundary_inner)\n",
    "print('v_boundary_outer:\\n', v_p_model.v_boundary_outer)\n",
    "#print('\\nradius:\\n', v_p_model.radius)\n",
    "#print('r_inner:\\n', v_p_model.r_inner)\n",
    "#print('r_outer:\\n', v_p_model.r_outer)\n",
    "print('\\nr_middle:\\n', v_p_model.r_middle)\n",
    "print('\\ndilution factor:\\n', v_p_model.w)\n",
    "print('radiative teperature:\\n', v_p_model.t_rad)\n",
    "#print('\\nvolume:\\n', v_p_model.volume)\n",
    "#print('density:\\n', v_p_model.density)\n",
    "\n",
    "fig, axs = plt.subplots(2, 1, figsize = (8, 6))\n",
    "\n",
    "axs[0].plot(v_p_model.r_middle, v_p_model.w)\n",
    "axs[0].set_xlabel(f'Radius ({v_p_model.r_middle.unit})')\n",
    "axs[0].set_ylabel('Dilution Factor')\n",
    "\n",
    "axs[1].plot(v_p_model.r_middle,  v_p_model.t_rad)\n",
    "axs[1].set_xlabel(f'Radius ({v_p_model.r_middle.unit})')\n",
    "axs[1].set_ylabel(f'Radiative Temperature ({v_p_model.t_rad.unit})')\n",
    "plt.tight_layout()"
   ]
  },
  {
   "cell_type": "code",
   "execution_count": null,
   "id": "f4726ab5",
   "metadata": {},
   "outputs": [],
   "source": [
    "pd.DataFrame(v_p_model.abundance)"
   ]
  },
  {
   "cell_type": "markdown",
   "id": "2ee3f8a2",
   "metadata": {},
   "source": [
    "### Model With Empty CSV Section\n",
    "\n",
    "The following example shows a model where the csv section has been left empty. In this instance, `velocity`, `density`, and `abundance` **must** be defined in the YAML section."
   ]
  },
  {
   "cell_type": "code",
   "execution_count": null,
   "id": "761742c8",
   "metadata": {},
   "outputs": [],
   "source": [
    "config.csvy_model = 'csvy_tutorial_empty_csv.csvy'\n",
    "\n",
    "yaml_emp, csv_emp = load_csvy(config.csvy_model)\n",
    "yaml_emp"
   ]
  },
  {
   "cell_type": "code",
   "execution_count": null,
   "id": "92c5e30c",
   "metadata": {},
   "outputs": [],
   "source": [
    "type(csv_emp)"
   ]
  },
  {
   "cell_type": "code",
   "execution_count": null,
   "id": "ff9c9479",
   "metadata": {
    "scrolled": false
   },
   "outputs": [],
   "source": [
    "no_csv_model = Radial1DModel.from_csvy(config)\n",
    "\n",
    "print('velocity:\\n', no_csv_model.velocity)\n",
    "print('v_inner:\\n', no_csv_model.v_inner)\n",
    "print('v_outer:\\n', no_csv_model.v_outer)\n",
    "print('v_middle:\\n', no_csv_model.v_middle)\n",
    "print('v_boundary_inner:\\n', no_csv_model.v_boundary_inner)\n",
    "print('v_boundary_outer:\\n', no_csv_model.v_boundary_outer)\n",
    "print('\\nradius:\\n', no_csv_model.radius)\n",
    "print('r_inner:\\n', no_csv_model.r_inner)\n",
    "print('r_outer:\\n', no_csv_model.r_outer)\n",
    "print('\\nr_middle:\\n', no_csv_model.r_middle)\n",
    "print('\\ndilution factor:\\n', no_csv_model.w)\n",
    "print('radiative teperature:\\n', no_csv_model.t_rad)\n",
    "print('\\nvolume:\\n', no_csv_model.volume)\n",
    "print('density:\\n', no_csv_model.density)\n",
    "\n",
    "fig, axs = plt.subplots(2, 2, figsize = (8,6))\n",
    "axs[0,0].plot(no_csv_model.r_middle, no_csv_model.density)\n",
    "axs[0,0].set_xlabel(f'Radius ({no_csv_model.r_middle.unit})')\n",
    "axs[0,0].set_ylabel(f'Density ({no_csv_model.density.unit})')\n",
    "\n",
    "axs[0,1].plot(no_csv_model.r_middle, no_csv_model.t_rad)\n",
    "axs[0,1].set_xlabel(f'Radius ({no_csv_model.r_middle.unit})')\n",
    "axs[0,1].set_ylabel(f'Radiative Temperature ({no_csv_model.t_rad.unit})')\n",
    "\n",
    "axs[1,0].plot(no_csv_model.r_middle, no_csv_model.w)\n",
    "axs[1,0].set_xlabel(f'Radius ({no_csv_model.r_middle.unit})')\n",
    "axs[1,0].set_ylabel('Dilution Factor')\n",
    "\n",
    "axs[1,1].plot(no_csv_model.r_middle, no_csv_model.v_middle)\n",
    "axs[1,1].set_xlabel(f'Radius ({no_csv_model.r_middle.unit})')\n",
    "axs[1,1].set_ylabel(f'Velocity ({no_csv_model.v_middle.unit})')\n",
    "plt.tight_layout()\n"
   ]
  },
  {
   "cell_type": "code",
   "execution_count": null,
   "id": "d962f579",
   "metadata": {},
   "outputs": [],
   "source": [
    "pd.DataFrame(no_csv_model.abundance)"
   ]
  },
  {
   "cell_type": "markdown",
   "id": "ff540f71",
   "metadata": {},
   "source": [
    "### Model With Velocity Inner and Outer Boundary Mismatched\n",
    "\n",
    "The following shows a model where `v_boundary_inner` and `v_boundary_outer` are set to values not equal to the first and last shell velocities. In this case, TARDIS will change `v_boundary_inner` and `v_boundary_outer` so as to match the values given in the csv portion."
   ]
  },
  {
   "cell_type": "code",
   "execution_count": null,
   "id": "07f148ef",
   "metadata": {},
   "outputs": [],
   "source": [
    "config.csvy_model = 'csvy_tutorial_diff_v.csvy'\n",
    "\n",
    "yaml_diff_v, csv_diff_v = load_csvy(config.csvy_model)\n",
    "yaml_diff_v"
   ]
  },
  {
   "cell_type": "code",
   "execution_count": null,
   "id": "e12c2937",
   "metadata": {},
   "outputs": [],
   "source": [
    "csv_diff_v"
   ]
  },
  {
   "cell_type": "code",
   "execution_count": null,
   "id": "46e03013",
   "metadata": {
    "scrolled": false
   },
   "outputs": [],
   "source": [
    "print('Before Model Initialization:')\n",
    "print('\\tv_inner_boundary:', yaml_diff_v['v_inner_boundary'])\n",
    "print('\\tv_outer_boundary:', yaml_diff_v['v_outer_boundary'])\n",
    "\n",
    "diff_v_model = Radial1DModel.from_csvy(config)\n",
    "\n",
    "print('\\nAfter Model Initialization:')\n",
    "print('\\tv_boundary_inner:', diff_v_model.v_boundary_inner)\n",
    "print('\\tv_boundary_outer:', diff_v_model.v_boundary_outer)"
   ]
  },
  {
   "cell_type": "markdown",
   "id": "6f4d5e29",
   "metadata": {},
   "source": [
    "### Models With Different `model_density_time_0` and `model_isotope_time_0` values\n",
    "\n",
    "In this example, models are shown where `model_density_time_0` is set to a different number other than 1, `model_isotope_time_0` is set to a different number other than 0, and both are set to differing values. Here, when `model_density_time_0` is edited, the model's density will be calculated differently, and when `model_isotope_time_0` is edited, the fractional abundance of isotopes within the model will also be calculated differently. Here, each file is built off the base `csvy_tutorial.csvy` file."
   ]
  },
  {
   "cell_type": "code",
   "execution_count": null,
   "id": "4dfa2a7b",
   "metadata": {},
   "outputs": [],
   "source": [
    "config.csvy_model = 'csvy_tutorial_diff_p0.csvy'\n",
    "\n",
    "yaml_diff_p0, csv_diff_p0 = load_csvy(config.csvy_model)\n",
    "yaml_diff_p0"
   ]
  },
  {
   "cell_type": "code",
   "execution_count": null,
   "id": "3e15d779",
   "metadata": {},
   "outputs": [],
   "source": [
    "diff_p0_model = Radial1DModel.from_csvy(config)\n",
    "\n",
    "print('density:\\n', diff_p0_model.density)\n",
    "\n",
    "plt.figure(figsize=(6,6))\n",
    "plt.title('Density Comparisson Between Base Model and Edited model_density_time_0 Model', y = 1.05)\n",
    "plt.plot(full_model.r_middle, full_model.density, label = 'Base Density Curve')\n",
    "plt.plot(diff_p0_model.r_middle, diff_p0_model.density, label = 'Density Curve with Different model_isotope_time_0')\n",
    "plt.xlabel(f'Radius ({diff_p0_model.r_middle.unit})')\n",
    "plt.ylabel(f'Density ({diff_p0_model.density.unit})')\n",
    "plt.legend()"
   ]
  },
  {
   "cell_type": "code",
   "execution_count": null,
   "id": "f70f24a6",
   "metadata": {},
   "outputs": [],
   "source": [
    "config.csvy_model = 'csvy_tutorial_diff_iso0.csvy'\n",
    "\n",
    "yaml_diff_iso0, csv_diff_iso0 = load_csvy(config.csvy_model)\n",
    "yaml_diff_iso0"
   ]
  },
  {
   "cell_type": "code",
   "execution_count": null,
   "id": "39f5d68a",
   "metadata": {},
   "outputs": [],
   "source": [
    "diff_iso0_model = Radial1DModel.from_csvy(config)\n",
    "\n",
    "print('Dataframe of Base Model Abundances')\n",
    "display(pd.DataFrame(full_model.abundance))\n",
    "print('Dataframe of Model Abundances with Edited model_isotope_time_0 value')\n",
    "display(pd.DataFrame(diff_iso0_model.abundance))"
   ]
  },
  {
   "cell_type": "code",
   "execution_count": null,
   "id": "a0ed3aa4",
   "metadata": {},
   "outputs": [],
   "source": [
    "config.csvy_model = 'csvy_tutorial_diff_p0_iso0.csvy'\n",
    "\n",
    "yaml_diff_p0_iso0, csv_diff_p0_iso0 = load_csvy(config.csvy_model)\n",
    "yaml_diff_p0_iso0"
   ]
  },
  {
   "cell_type": "code",
   "execution_count": null,
   "id": "6b67fbc6",
   "metadata": {},
   "outputs": [],
   "source": [
    "diff_p0_iso0_model = Radial1DModel.from_csvy(config)\n",
    "\n",
    "print('density:\\n', diff_p0_iso0_model.density)\n",
    "\n",
    "plt.figure(figsize=(6,6))\n",
    "plt.title('Density Comparisson Between Base Model and Edited Time_0 Model', y = 1.05)\n",
    "plt.plot(full_model.r_middle, full_model.density, label = 'Base Density Curve')\n",
    "plt.plot(diff_p0_iso0_model.r_middle, diff_p0_iso0_model.density, label = 'Density Curve with Different Time_0 values')\n",
    "plt.xlabel(f'Radius ({diff_p0_iso0_model.r_middle.unit})')\n",
    "plt.ylabel(f'Density ({diff_p0_iso0_model.density.unit})')\n",
    "plt.legend()"
   ]
  },
  {
   "cell_type": "code",
   "execution_count": null,
   "id": "1b12b9d4",
   "metadata": {},
   "outputs": [],
   "source": [
    "print('Dataframe of Base Model Abundances')\n",
    "display(pd.DataFrame(full_model.abundance))\n",
    "print('Dataframe of Model Abundances with Time_0 Values')\n",
    "display(pd.DataFrame(diff_p0_iso0_model.abundance))"
   ]
  },
  {
   "cell_type": "markdown",
   "id": "c7c3cce6",
   "metadata": {},
   "source": [
    "### Simulations With Damping Constant Set to Zero\n",
    "\n",
    "Lastly, showcased below are simulations ran from the `csvy_tutorial.csvy` file where `damping_constant` is changed. In the first case, the constant is left to its default value of 1.0, while the second case shows a simulation where the constant is set to 0. Here, TARDIS will not change `t_rad` or `dilution_factor` values specified in the csv portion of the csvy file in the second case due to `damping_constant` being set to 0, resulting in graphs similar to those found in the first section of this tutorial, while TARDIS will change those values for other constants, as shown in the first case.\n",
    "\n",
    "*NOTE: iterations and number of packets has been altered from the `tardis_example.yml` file to showcase the differences*"
   ]
  },
  {
   "cell_type": "code",
   "execution_count": null,
   "id": "17d6c698",
   "metadata": {},
   "outputs": [],
   "source": [
    "config.csvy_model = 'csvy_tutorial.csvy'\n",
    "\n",
    "config.montecarlo.no_of_packets = 2.0e+4\n",
    "config.montecarlo.iterations = 2\n",
    "config.montecarlo.last_no_of_packets = 2.0e+4\n",
    "\n",
    "print('This Configuration has a damping constant of', config.montecarlo.convergence_strategy.damping_constant)\n",
    "sim = run_tardis(config)"
   ]
  },
  {
   "cell_type": "code",
   "execution_count": null,
   "id": "ecf5e378",
   "metadata": {},
   "outputs": [],
   "source": [
    "new_config = Configuration.from_yaml(\"tardis_ex_csvy_dc0.yml\")\n",
    "print(new_config)\n",
    "\n",
    "print('This Configuration has a damping constant of', new_config.montecarlo.convergence_strategy.damping_constant)\n",
    "sim_dc0 = run_tardis(new_config)"
   ]
  }
 ],
 "metadata": {
  "kernelspec": {
   "display_name": "Python 3 (ipykernel)",
   "language": "python",
   "name": "python3"
  },
  "language_info": {
   "codemirror_mode": {
    "name": "ipython",
    "version": 3
   },
   "file_extension": ".py",
   "mimetype": "text/x-python",
   "name": "python",
   "nbconvert_exporter": "python",
   "pygments_lexer": "ipython3",
   "version": "3.7.10"
  }
 },
 "nbformat": 4,
 "nbformat_minor": 5
}
